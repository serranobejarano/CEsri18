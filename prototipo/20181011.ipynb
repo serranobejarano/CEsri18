{
 "cells": [
  {
   "cell_type": "code",
   "execution_count": 1,
   "metadata": {},
   "outputs": [],
   "source": [
    "from arcgis.gis import GIS\n",
    "from arcgis.geocoding import geocode\n",
    "from arcgis.raster.functions import *\n",
    "from arcgis import geometry\n",
    "    \n",
    "import pandas as pd"
   ]
  },
  {
   "cell_type": "code",
   "execution_count": 2,
   "metadata": {},
   "outputs": [],
   "source": [
    "gis = GIS()"
   ]
  },
  {
   "cell_type": "code",
   "execution_count": 3,
   "metadata": {},
   "outputs": [],
   "source": [
    "landsat_item = gis.content.search('\"MODIS Vegetation - Terra Surface Reflectance\"', 'Imagery Layer', outside_org=True)[0]\n",
    "landsat = landsat_item.layers[0]\n",
    "df = None"
   ]
  },
  {
   "cell_type": "code",
   "execution_count": 4,
   "metadata": {},
   "outputs": [
    {
     "data": {
      "application/vnd.jupyter.widget-view+json": {
       "model_id": "6399c2ffd7a4420b9353a008042a0a3b",
       "version_major": 2,
       "version_minor": 0
      },
      "text/plain": [
       "HBox(children=(Text(value='Puertollano, Spain', description='Location:', placeholder='Puertollano, Spain'), Bu…"
      ]
     },
     "metadata": {},
     "output_type": "display_data"
    }
   ],
   "source": [
    "import ipywidgets as widgets\n",
    "\n",
    "# text box widget\n",
    "location = widgets.Text(value='Puertollano, Spain', placeholder='Puertollano, Spain',\n",
    "                        description='Location:', disabled=False)\n",
    "\n",
    "# command button widget\n",
    "gobtn = widgets.Button(description='Go', disabled=False,\n",
    "                       button_style='', tooltip='Go', icon='check')\n",
    "\n",
    "# define what happens whent the command button is clicked\n",
    "def on_gobutton_clicked(b):\n",
    "    global df\n",
    "    global m\n",
    "    global oldslider\n",
    "    \n",
    "    # geocode the place name and set that as the map's extent\n",
    "    area = geocode(location.value)[0]\n",
    "    m.extent = area['extent']\n",
    "    df = filter_images()\n",
    "    \n",
    "gobtn.on_click(on_gobutton_clicked)\n",
    "\n",
    "location_items = [location, gobtn]\n",
    "widgets.HBox(location_items)"
   ]
  },
  {
   "cell_type": "code",
   "execution_count": 5,
   "metadata": {},
   "outputs": [
    {
     "data": {
      "application/vnd.jupyter.widget-view+json": {
       "model_id": "55c82b8d539e4d8b9e3b710ea36bdca2",
       "version_major": 2,
       "version_minor": 0
      },
      "text/plain": [
       "MapView(layout=Layout(height='400px', width='100%'))"
      ]
     },
     "metadata": {},
     "output_type": "display_data"
    }
   ],
   "source": [
    "m = gis.map(location.value)\n",
    "m.add_layer(landsat)\n",
    "display(m)"
   ]
  },
  {
   "cell_type": "code",
   "execution_count": 6,
   "metadata": {},
   "outputs": [
    {
     "data": {
      "application/vnd.jupyter.widget-view+json": {
       "model_id": "132de0ac0f79485a9ed9f7250392703b",
       "version_major": 2,
       "version_minor": 0
      },
      "text/plain": [
       "HBox(children=(IntSlider(value=0, description='Older:', max=10, readout=False, readout_format='f'), Label(valu…"
      ]
     },
     "metadata": {},
     "output_type": "display_data"
    }
   ],
   "source": [
    "oldindex =  0 # int(len(df)/2)\n",
    "\n",
    "# before image date slider\n",
    "oldslider = widgets.IntSlider(value=oldindex, min=0,max=10, #len(df) - 1,\n",
    "                              step=1, description='Older:', disabled=False,\n",
    "                              continuous_update=True, orientation='horizontal',\n",
    "                              readout=False, readout_format='f', slider_color='white')\n",
    "\n",
    "old_label = widgets.Label(value='')#str(df.Time.iloc[oldindex].date()))\n",
    "\n",
    "# define the slider behavior\n",
    "def on_old_value_change(change):\n",
    "    global df\n",
    "    i = change['new']\n",
    "    if df is not None:\n",
    "        try:\n",
    "            # print(df.Time.iloc[i].date())\n",
    "            old_label.value = str(df.Time.iloc[i].date())\n",
    "        except:\n",
    "            pass\n",
    "        \n",
    "oldslider.observe(on_old_value_change, names='value')    \n",
    "widgets.HBox([oldslider, old_label])"
   ]
  },
  {
   "cell_type": "code",
   "execution_count": 7,
   "metadata": {},
   "outputs": [
    {
     "data": {
      "application/vnd.jupyter.widget-view+json": {
       "model_id": "16f0afe9265449659f67640b6a18355a",
       "version_major": 2,
       "version_minor": 0
      },
      "text/plain": [
       "HBox(children=(IntSlider(value=0, description='Newer:', max=10, readout=False, readout_format='f'), Label(valu…"
      ]
     },
     "metadata": {},
     "output_type": "display_data"
    }
   ],
   "source": [
    "newindex = 0 # len(df) - 1\n",
    "\n",
    "# after image date slider\n",
    "newslider = widgets.IntSlider(value=newindex, min=0, max=10, #len(df) - 1,\n",
    "                              step=1, description='Newer:', disabled=False,\n",
    "                              continuous_update=True, orientation='horizontal',\n",
    "                              readout=False, readout_format='f', slider_color='white')\n",
    "\n",
    "new_label = widgets.Label(value='') #str(df.Time.iloc[newindex].date()))\n",
    "\n",
    "# define the slider behavior\n",
    "def on_new_value_change(change):\n",
    "    global df\n",
    "    i = change['new']\n",
    "    if df is not None:\n",
    "        try:\n",
    "        # print(df.Time.iloc[i].date())\n",
    "            new_label.value = str(df.Time.iloc[i].date())\n",
    "        except:\n",
    "            pass\n",
    "newslider.observe(on_new_value_change, names='value')\n",
    "widgets.HBox([newslider, new_label])"
   ]
  },
  {
   "cell_type": "code",
   "execution_count": 8,
   "metadata": {},
   "outputs": [],
   "source": [
    "def update_sliders(tdf):\n",
    "    global oldslider\n",
    "    global newslider\n",
    "    \n",
    "    oldslider.max = len(tdf) - 1\n",
    "    newslider.max = len(tdf) -1\n",
    "    oldindex = int(len(tdf)/2)\n",
    "    newindex = int(len(tdf) -1)\n",
    "    oldslider.value = oldindex\n",
    "    newslider.value = newindex\n",
    "    old_label.value = str(tdf.Time.iloc[oldindex].date())\n",
    "    new_label.value = str(tdf.Time.iloc[newindex].date())\n",
    "\n",
    "\n",
    "def filter_images():\n",
    "    global df\n",
    "    area = geocode(location.value, out_sr=landsat.properties.spatialReference)[0]\n",
    "    extent = area['extent']\n",
    "\n",
    "    selected = landsat.filter_by(where=\"(Category = 1) AND (CloudCover <=0.10)\", \n",
    "                             geometry=geometry.filters.intersects(extent))\n",
    "    fs = selected.query(out_fields=\"AcquisitionDate, GroupName, Best, CloudCover, WRS_Row, WRS_Path, Month, Name\", \n",
    "                  return_geometry=True,\n",
    "                  return_distinct_values=False,\n",
    "                  order_by_fields=\"AcquisitionDate\")\n",
    "    tdf = fs.sdf\n",
    "    df = tdf\n",
    "    tdf['Time'] = pd.to_datetime(tdf['AcquisitionDate'], unit='ms')    \n",
    "    \n",
    "    if len(tdf) > 1:\n",
    "        update_sliders(tdf)\n",
    "\n",
    "    # m.draw(tdf.iloc[oldslider.value].SHAPE)\n",
    "    \n",
    "    return tdf"
   ]
  },
  {
   "cell_type": "code",
   "execution_count": 9,
   "metadata": {},
   "outputs": [
    {
     "name": "stderr",
     "output_type": "stream",
     "text": [
      "Failed to execute query.\n"
     ]
    },
    {
     "ename": "RuntimeError",
     "evalue": "Failed to execute query.\n(Error Code: 400)",
     "output_type": "error",
     "traceback": [
      "\u001b[0;31m---------------------------------------------------------------------------\u001b[0m",
      "\u001b[0;31mRuntimeError\u001b[0m                              Traceback (most recent call last)",
      "\u001b[0;32m<ipython-input-9-7a71d8d8fc4f>\u001b[0m in \u001b[0;36m<module>\u001b[0;34m()\u001b[0m\n\u001b[0;32m----> 1\u001b[0;31m \u001b[0mdf\u001b[0m \u001b[0;34m=\u001b[0m \u001b[0mfilter_images\u001b[0m\u001b[0;34m(\u001b[0m\u001b[0;34m)\u001b[0m\u001b[0;34m\u001b[0m\u001b[0m\n\u001b[0m",
      "\u001b[0;32m<ipython-input-8-f453662fee8d>\u001b[0m in \u001b[0;36mfilter_images\u001b[0;34m()\u001b[0m\n\u001b[1;32m     19\u001b[0m \u001b[0;34m\u001b[0m\u001b[0m\n\u001b[1;32m     20\u001b[0m     selected = landsat.filter_by(where=\"(Category = 1) AND (CloudCover <=0.10)\", \n\u001b[0;32m---> 21\u001b[0;31m                              geometry=geometry.filters.intersects(extent))\n\u001b[0m\u001b[1;32m     22\u001b[0m     fs = selected.query(out_fields=\"AcquisitionDate, GroupName, Best, CloudCover, WRS_Row, WRS_Path, Month, Name\", \n\u001b[1;32m     23\u001b[0m                   \u001b[0mreturn_geometry\u001b[0m\u001b[0;34m=\u001b[0m\u001b[0;32mTrue\u001b[0m\u001b[0;34m,\u001b[0m\u001b[0;34m\u001b[0m\u001b[0m\n",
      "\u001b[0;32m~/anaconda3/lib/python3.5/site-packages/arcgis/raster/_layer.py\u001b[0m in \u001b[0;36mfilter_by\u001b[0;34m(self, where, geometry, time, lock_rasters)\u001b[0m\n\u001b[1;32m    657\u001b[0m                   \u001b[0mtime_filter\u001b[0m\u001b[0;34m=\u001b[0m\u001b[0mtime\u001b[0m\u001b[0;34m,\u001b[0m\u001b[0;34m\u001b[0m\u001b[0m\n\u001b[1;32m    658\u001b[0m                   \u001b[0mgeometry_filter\u001b[0m\u001b[0;34m=\u001b[0m\u001b[0mgeometry\u001b[0m\u001b[0;34m,\u001b[0m\u001b[0;34m\u001b[0m\u001b[0m\n\u001b[0;32m--> 659\u001b[0;31m                   return_ids_only=True)['objectIds']\n\u001b[0m\u001b[1;32m    660\u001b[0m             newlyr._mosaic_rule = {\n\u001b[1;32m    661\u001b[0m                 \u001b[0;34m\"mosaicMethod\"\u001b[0m\u001b[0;34m:\u001b[0m \u001b[0;34m\"esriMosaicLockRaster\"\u001b[0m\u001b[0;34m,\u001b[0m\u001b[0;34m\u001b[0m\u001b[0m\n",
      "\u001b[0;32m~/anaconda3/lib/python3.5/site-packages/arcgis/raster/_layer.py\u001b[0m in \u001b[0;36mquery\u001b[0;34m(self, where, out_fields, time_filter, geometry_filter, return_geometry, return_ids_only, return_count_only, pixel_size, order_by_fields, return_distinct_values, out_statistics, group_by_fields_for_statistics, out_sr, return_all_records, object_ids, multi_dimensional_def, result_offset, result_record_count, max_allowable_offset, true_curves)\u001b[0m\n\u001b[1;32m   1236\u001b[0m                 \u001b[0mresult\u001b[0m \u001b[0;34m=\u001b[0m \u001b[0mself\u001b[0m\u001b[0;34m.\u001b[0m\u001b[0m_con\u001b[0m\u001b[0;34m.\u001b[0m\u001b[0mpost\u001b[0m\u001b[0;34m(\u001b[0m\u001b[0mpath\u001b[0m\u001b[0;34m=\u001b[0m\u001b[0murl\u001b[0m\u001b[0;34m,\u001b[0m \u001b[0mpostdata\u001b[0m\u001b[0;34m=\u001b[0m\u001b[0mparams\u001b[0m\u001b[0;34m,\u001b[0m \u001b[0mtoken\u001b[0m\u001b[0;34m=\u001b[0m\u001b[0mself\u001b[0m\u001b[0;34m.\u001b[0m\u001b[0m_token\u001b[0m\u001b[0;34m)\u001b[0m\u001b[0;34m\u001b[0m\u001b[0m\n\u001b[1;32m   1237\u001b[0m         \u001b[0;32melse\u001b[0m\u001b[0;34m:\u001b[0m\u001b[0;34m\u001b[0m\u001b[0m\n\u001b[0;32m-> 1238\u001b[0;31m             \u001b[0mresult\u001b[0m \u001b[0;34m=\u001b[0m \u001b[0mself\u001b[0m\u001b[0;34m.\u001b[0m\u001b[0m_con\u001b[0m\u001b[0;34m.\u001b[0m\u001b[0mpost\u001b[0m\u001b[0;34m(\u001b[0m\u001b[0mpath\u001b[0m\u001b[0;34m=\u001b[0m\u001b[0murl\u001b[0m\u001b[0;34m,\u001b[0m \u001b[0mpostdata\u001b[0m\u001b[0;34m=\u001b[0m\u001b[0mparams\u001b[0m\u001b[0;34m,\u001b[0m \u001b[0mtoken\u001b[0m\u001b[0;34m=\u001b[0m\u001b[0mself\u001b[0m\u001b[0;34m.\u001b[0m\u001b[0m_token\u001b[0m\u001b[0;34m)\u001b[0m\u001b[0;34m\u001b[0m\u001b[0m\n\u001b[0m\u001b[1;32m   1239\u001b[0m \u001b[0;34m\u001b[0m\u001b[0m\n\u001b[1;32m   1240\u001b[0m         \u001b[0;32mif\u001b[0m \u001b[0;34m'error'\u001b[0m \u001b[0;32min\u001b[0m \u001b[0mresult\u001b[0m\u001b[0;34m:\u001b[0m\u001b[0;34m\u001b[0m\u001b[0m\n",
      "\u001b[0;32m~/anaconda3/lib/python3.5/site-packages/arcgis/_impl/connection.py\u001b[0m in \u001b[0;36mpost\u001b[0;34m(self, path, postdata, files, ssl, compress, is_retry, use_ordered_dict, add_token, verify_cert, token, try_json, out_folder, file_name, force_bytes, add_headers)\u001b[0m\n\u001b[1;32m   1154\u001b[0m                                          verify_cert=verify_cert, is_retry=True)\n\u001b[1;32m   1155\u001b[0m \u001b[0;34m\u001b[0m\u001b[0m\n\u001b[0;32m-> 1156\u001b[0;31m                 \u001b[0mself\u001b[0m\u001b[0;34m.\u001b[0m\u001b[0m_handle_json_error\u001b[0m\u001b[0;34m(\u001b[0m\u001b[0mresp_json\u001b[0m\u001b[0;34m[\u001b[0m\u001b[0;34m'error'\u001b[0m\u001b[0;34m]\u001b[0m\u001b[0;34m,\u001b[0m \u001b[0merrorcode\u001b[0m\u001b[0;34m)\u001b[0m\u001b[0;34m\u001b[0m\u001b[0m\n\u001b[0m\u001b[1;32m   1157\u001b[0m                 \u001b[0;32mreturn\u001b[0m \u001b[0;32mNone\u001b[0m\u001b[0;34m\u001b[0m\u001b[0m\n\u001b[1;32m   1158\u001b[0m \u001b[0;34m\u001b[0m\u001b[0m\n",
      "\u001b[0;32m~/anaconda3/lib/python3.5/site-packages/arcgis/_impl/connection.py\u001b[0m in \u001b[0;36m_handle_json_error\u001b[0;34m(self, error, errorcode)\u001b[0m\n\u001b[1;32m   1175\u001b[0m \u001b[0;34m\u001b[0m\u001b[0m\n\u001b[1;32m   1176\u001b[0m         \u001b[0merrormessage\u001b[0m \u001b[0;34m=\u001b[0m \u001b[0merrormessage\u001b[0m \u001b[0;34m+\u001b[0m \u001b[0;34m\"\\n(Error Code: \"\u001b[0m \u001b[0;34m+\u001b[0m \u001b[0mstr\u001b[0m\u001b[0;34m(\u001b[0m\u001b[0merrorcode\u001b[0m\u001b[0;34m)\u001b[0m \u001b[0;34m+\u001b[0m\u001b[0;34m\")\"\u001b[0m\u001b[0;34m\u001b[0m\u001b[0m\n\u001b[0;32m-> 1177\u001b[0;31m         \u001b[0;32mraise\u001b[0m \u001b[0mRuntimeError\u001b[0m\u001b[0;34m(\u001b[0m\u001b[0merrormessage\u001b[0m\u001b[0;34m)\u001b[0m\u001b[0;34m\u001b[0m\u001b[0m\n\u001b[0m\u001b[1;32m   1178\u001b[0m \u001b[0;34m\u001b[0m\u001b[0m\n\u001b[1;32m   1179\u001b[0m \u001b[0;32mclass\u001b[0m \u001b[0m_StrictURLopener\u001b[0m\u001b[0;34m(\u001b[0m\u001b[0mrequest\u001b[0m\u001b[0;34m.\u001b[0m\u001b[0mFancyURLopener\u001b[0m\u001b[0;34m)\u001b[0m\u001b[0;34m:\u001b[0m\u001b[0;34m\u001b[0m\u001b[0m\n",
      "\u001b[0;31mRuntimeError\u001b[0m: Failed to execute query.\n(Error Code: 400)"
     ]
    }
   ],
   "source": [
    "df = filter_images()"
   ]
  },
  {
   "cell_type": "code",
   "execution_count": null,
   "metadata": {},
   "outputs": [],
   "source": [
    "# create the action button\n",
    "diffbtn = widgets.Button(description='Detecta cambios', disabled=False,\n",
    "                         button_style='success', tooltip='Show Different Image',\n",
    "                         icon='check')\n",
    "\n",
    "def on_diffbutton_clicked(b):\n",
    "    # m.clear_graphics()\n",
    "    first = df.iloc[oldslider.value].OBJECTID\n",
    "    last = df.iloc[newslider.value].OBJECTID\n",
    "    old = landsat.filter_by('OBJECTID='+str(first))\n",
    "    new = landsat.filter_by('OBJECTID='+str(last))\n",
    "    diff = stretch(composite_band([ndvi(old, '5 4'),\n",
    "                               ndvi(new, '5 4'),\n",
    "                               ndvi(old, '5 4')]), \n",
    "                               stretch_type='stddev',  num_stddev=3, min=0, max=255, dra=True, astype='u8')\n",
    "    m.add_layer(diff)\n",
    "    \n",
    "diffbtn.on_click(on_diffbutton_clicked)\n",
    "diffbtn"
   ]
  },
  {
   "cell_type": "code",
   "execution_count": null,
   "metadata": {},
   "outputs": [],
   "source": []
  }
 ],
 "metadata": {
  "kernelspec": {
   "display_name": "Python 3",
   "language": "python",
   "name": "python3"
  },
  "language_info": {
   "codemirror_mode": {
    "name": "ipython",
    "version": 3
   },
   "file_extension": ".py",
   "mimetype": "text/x-python",
   "name": "python",
   "nbconvert_exporter": "python",
   "pygments_lexer": "ipython3",
   "version": "3.5.5"
  }
 },
 "nbformat": 4,
 "nbformat_minor": 2
}
